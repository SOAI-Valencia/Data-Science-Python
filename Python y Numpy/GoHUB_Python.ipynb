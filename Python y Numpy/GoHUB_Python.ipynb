{
 "cells": [
  {
   "attachments": {},
   "cell_type": "markdown",
   "metadata": {},
   "source": [
    "# Curso Iniciación Python: NumPy\n",
    "\n",
    "##################################################################\n",
    "\n",
    "Fecha: 20/06/2019\n",
    "\n",
    "Autores: \n",
    "\n",
    "    Ana Jimenez Pastor\n",
    "    \n",
    "    Rafael López González\n",
    "    \n",
    "    Jose Sánchez García\n",
    "\n",
    "Quibim S.L.\n",
    "\n",
    "![logo.png](./logo.png)\n",
    "\n",
    "##################################################################\n",
    "\n",
    "# Python\n",
    "\n",
    "Python es un lenguaje de programación interpretado cuya filosofía consiste en una sintaxis muy limpia y que favorece un código legible.\n",
    "\n",
    "Un lenguaje interpretado o de script es aquel que se ejecuta utilizando un programa intermedio llamado intérprete, un lugar de compilar el código a lenguaje máquina que pueda comprender y ejecutar directamente una computadora (lenguajes compilados). La ventaja de los lenguajes compilados es que su ejecución es más rápida. Sin embargo los lenguajes interpretados son más flexibles y más portables. Python tiene, no obstante, muchas de las características de los lenguajes compilados, por lo que se podría decir que es semi interpretado. En Python,  como en Java y muchos otros lenguajes, el código fuente se traduce a un pseudo código máquina intermedio llamado bytecode la primera vez que se ejecuta, generando archivos .pyc o .pyo (bytecode optimizado), que son los que se ejecutarán en sucesivas ocasiones.\n",
    "\n",
    "Básicamente un lenguaje interpretado es aquel en el cual sus instrucciones o más bien el código fuente, escrito por el programador en un lenguaje de alto nivel, es traducido por el interprete a un lenguaje entendible para la máquina paso a paso, instrucción por instrucción. El proceso se repite cada vez que se ejecuta el programa el código en cuestión.\n",
    "\n",
    "\n",
    "## Principales ventajas\n",
    "\n",
    "### 1. Multiplataforma\n",
    "\n",
    "Python es un lenguaje de programación interpretado, por lo que funciona en cualquier tipo de sistema que integre su interpretador. \n",
    "\n",
    "### 2. Frameworks de gran utilidad\n",
    "\n",
    "Permite desarrollar cualquier tipo de vía, como por ejemplo web o móvil. Para que esto se lleve a cabo, este lenguaje de programación cuenta con frameworks de gran calibre, los cuales auxilian desde el desarrollo web, hasta el desarrollo de juegos o algoritmos científicos de cálculos avanzados.\n",
    "\n",
    "### 3. Es libre y nos ofrece código abierto\n",
    "\n",
    "Si hablamos de la licencia que posee, ésta es Python Software Foundation License, licencia muy parecida a la de GPL, pero encontrando la excepción de que se pueden distribuir los binarios del lenguaje sin tener que anexar las fuentes.\n",
    "\n",
    "### 4. Gran calidad en su sintaxis\n",
    "\n",
    "Esta es una de sus características más notorias. En Python, un bloque de código interno como puede ser un if, se crea a través de indentaciones, lo que fuerza al desarrollador a indentar su código fuente garantizando una legibilidad notoria.\n",
    "\n",
    "### 5. Programación orientada a objetos\n",
    "\n",
    "La programación orientada a objetos se utiliza para tratar el rápido aumento en el tamaño y la complejidad de los sistemas de software, y facilitar la modificación de esos grandes y complicados sistemas a lo largo del tiempo.\n",
    "\n",
    "### 6. Empresas de alto prestigio utilizan Python para programar todo tipo de aplicaciones y servicios\n",
    "\n",
    "Algunos casos de éxito en el uso de Python son Google, Yahoo, la NASA, Industrias Light & Magic, y todas las distribuciones Linux, en las que Python cada vez representa un tanto por ciento mayor de los programas disponibles.\n",
    "\n",
    "### 7. Gran disponibilidad de librerías\n",
    "\n",
    "Podemos hablar de tecnología para Big Data como PySpark, de herramientas para Data Science como Pandas, NumPy, Matplotlib o Jupyter. De herramientas del procesamiento del lenguaje natural como NLTK, y por último el área de machine learning que tanto interés está despertando con herramientas como Tensorflow, keras o scikit-learn.\n",
    "\n",
    "### 8. Ofrece un tipado dinámico fuerte\n",
    "\n",
    "Por último, cabe destacar la fácil atribución de una variable que nos ofrece a cualquier tipo de valor, y lo mejor de todo, en cualquier lugar de su código fuente.\n",
    "\n",
    "\n",
    "## Conclusión\n",
    "\n",
    "Python es un lenguaje maduro, con una gran base de desarrolladores, documentación y proyectos en producción. El crecimiento en el uso del lenguaje está siendo espectacular gracias, fundamentalmente, a las nuevas tecnologías de Data Science y Machine Learning, donde junto con el lenguaje R es el rey.\n",
    "\n",
    "Sin embargo, R es un lenguaje más de nicho que proviene del mundo de la estadística. Python, por otro lado, es un lenguaje de propósito general y su uso está mucho más extendido.\n",
    "\n",
    "En la siguiente gráfica vemos una proyección para los próximos años de Stackoverflow sobre el número de visitas que espera recibir en función de los principales lenguajes de programación.\n",
    "\n",
    "![stackoverflow.png](./stackoverflow.png)\n",
    "\n",
    "Si hablamos específicamente del área de datos, las comparativas son aún más demoledoras. Recientemente, Kaggle, la plataforma para Machine Learning y Data Science de Google, ha realizado un estudio recopilando información sobre las preferencias de los profesionales del sector.\n",
    "\n",
    "Un dato muy significativo es la respuesta a la pregunta: ¿Qué lenguaje de programación recomendaría a los nuevos científicos de datos aprender primero? Más del 63% de los encuestados respondió Python.\n",
    "\n",
    "![kaggle.png](./kaggle.png)\n",
    "\n",
    "\n",
    "# Introducción a NumPy\n",
    "\n",
    "NumPy es una librería de python (NUMerical PYthon) para trabajar con arreglos numéricos y uno de los paquetes más importantes en machine learning junto con pandas, matplotlib y scikitlearn.\n",
    "\n",
    "Esta librería proporciona una estructura de datos de matriz y presenta grandes ventajas frente a las listas regulares de python. Es la librería principal en la informática científica. Permite crear potentes estructuras de datos implementando matrices multidimensionales y garantizando cálculos eficientes.\n"
   ]
  },
  {
   "cell_type": "code",
   "execution_count": null,
   "metadata": {
    "scrolled": true
   },
   "outputs": [],
   "source": [
    "import numpy as np # Importar numpy"
   ]
  },
  {
   "cell_type": "code",
   "execution_count": null,
   "metadata": {},
   "outputs": [],
   "source": [
    "vector = np.array([1,2,3,4,5,6])\n",
    "print('vector:')\n",
    "print(vector)\n",
    "\n",
    "matriz = np.array([(1,2,3),(4,5,6)])\n",
    "print('matriz:')\n",
    "print(matriz)"
   ]
  },
  {
   "cell_type": "markdown",
   "metadata": {},
   "source": [
    "## Principales ventajas\n",
    "\n",
    "1. Ocupa menos espacio en memoria\n",
    "2. Funciona mucho más rápido\n",
    "3. Es funcional"
   ]
  },
  {
   "cell_type": "markdown",
   "metadata": {},
   "source": [
    "### Espacio en memoria"
   ]
  },
  {
   "cell_type": "code",
   "execution_count": null,
   "metadata": {},
   "outputs": [],
   "source": [
    "# Espacio en memoria\n",
    "\n",
    "import sys\n",
    "lista = range(100)\n",
    "print('Espacio ocupado por la lista de Python:', sys.getsizeof(5) * len(lista), 'bytes')\n",
    "\n",
    "array = np.arange(100)\n",
    "print('Espacio ocupado por el NumPy array:', array.size * array.itemsize, 'bytes')\n"
   ]
  },
  {
   "cell_type": "markdown",
   "metadata": {},
   "source": [
    "### Tiempo de ejecución"
   ]
  },
  {
   "cell_type": "code",
   "execution_count": null,
   "metadata": {},
   "outputs": [],
   "source": [
    "# Tiempo de ejecución\n",
    "\n",
    "import time\n",
    "\n",
    "size = 100000\n",
    "\n",
    "lista1 = range(size)\n",
    "lista2 = range(size)\n",
    "\n",
    "array1 = np.arange(size)\n",
    "array2 = np.arange(size)\n",
    "\n",
    "tic = time.time()\n",
    "suma = [(x,y) for x,y in zip(lista1, lista2)]\n",
    "print('Tiempo ejecución con listas:')\n",
    "print((time.time() - tic) * 1000, 'segundos')\n",
    "\n",
    "tic = time.time()\n",
    "suma = array1 + array2\n",
    "print('Tiempo ejecución con arrays:')\n",
    "print((time.time() - tic) * 1000, 'segundos')\n",
    "\n"
   ]
  },
  {
   "cell_type": "markdown",
   "metadata": {},
   "source": [
    "### Funciones\n",
    "\n",
    "#### Matriz vacía"
   ]
  },
  {
   "cell_type": "code",
   "execution_count": null,
   "metadata": {},
   "outputs": [],
   "source": [
    "a = np.zeros((2,3))\n",
    "print(a)"
   ]
  },
  {
   "cell_type": "markdown",
   "metadata": {},
   "source": [
    "#### Matriz de unos"
   ]
  },
  {
   "cell_type": "code",
   "execution_count": null,
   "metadata": {},
   "outputs": [],
   "source": [
    "b = np.ones((2,3))\n",
    "b"
   ]
  },
  {
   "cell_type": "markdown",
   "metadata": {},
   "source": [
    "#### Matriz aleatoria"
   ]
  },
  {
   "cell_type": "code",
   "execution_count": null,
   "metadata": {},
   "outputs": [],
   "source": [
    "np.random.seed(0) # mismos valores aparecerán en cada nueva ejecución\n",
    "c = np.random.random((2,3))\n",
    "c"
   ]
  },
  {
   "cell_type": "code",
   "execution_count": null,
   "metadata": {},
   "outputs": [],
   "source": [
    "# Marcar límites de la generación aleatoria\n",
    "np.random.seed(0) # mismos valores aparecerán en cada nueva ejecución\n",
    "c = np.random.randint(0, 5, 10)\n",
    "c"
   ]
  },
  {
   "cell_type": "markdown",
   "metadata": {},
   "source": [
    "#### Matriz valor unico"
   ]
  },
  {
   "cell_type": "code",
   "execution_count": null,
   "metadata": {},
   "outputs": [],
   "source": [
    "d = np.full ((2,3),4)\n",
    "d"
   ]
  },
  {
   "cell_type": "markdown",
   "metadata": {},
   "source": [
    "#### Matriz valores equiespaciados"
   ]
  },
  {
   "cell_type": "code",
   "execution_count": null,
   "metadata": {},
   "outputs": [],
   "source": [
    "e = np.arange(0,60,10)\n",
    "e"
   ]
  },
  {
   "cell_type": "markdown",
   "metadata": {},
   "source": [
    "#### Matriz identidad"
   ]
  },
  {
   "cell_type": "code",
   "execution_count": null,
   "metadata": {},
   "outputs": [],
   "source": [
    "f = np.eye(5,5)\n",
    "f"
   ]
  },
  {
   "cell_type": "markdown",
   "metadata": {},
   "source": [
    "#### Carácteristicas matriz creada"
   ]
  },
  {
   "cell_type": "code",
   "execution_count": null,
   "metadata": {},
   "outputs": [],
   "source": [
    "print('dimensiones:', f.shape)\n",
    "print('tipo de datos:', f.dtype)"
   ]
  },
  {
   "cell_type": "markdown",
   "metadata": {},
   "source": [
    "#### Cambio de dimensiones"
   ]
  },
  {
   "cell_type": "code",
   "execution_count": null,
   "metadata": {},
   "outputs": [],
   "source": [
    "print('matriz d:')\n",
    "print(d)\n",
    "g = d.reshape(3,2)\n",
    "g"
   ]
  },
  {
   "cell_type": "markdown",
   "metadata": {},
   "source": [
    "#### Extraer valores de una matriz"
   ]
  },
  {
   "cell_type": "code",
   "execution_count": null,
   "metadata": {},
   "outputs": [],
   "source": [
    "h =  np.array([(1,2,3,4,5), (6,7,8,9,10)])\n",
    "h"
   ]
  },
  {
   "cell_type": "code",
   "execution_count": null,
   "metadata": {},
   "outputs": [],
   "source": [
    "# Extraer un único valor\n",
    "print(h[1,2])"
   ]
  },
  {
   "cell_type": "code",
   "execution_count": null,
   "metadata": {},
   "outputs": [],
   "source": [
    "# Extraer valor empezando por el final\n",
    "print(h[1,-1])"
   ]
  },
  {
   "cell_type": "code",
   "execution_count": null,
   "metadata": {},
   "outputs": [],
   "source": [
    "# Extraer una fila\n",
    "fila = h[0,:]\n",
    "fila"
   ]
  },
  {
   "cell_type": "code",
   "execution_count": null,
   "metadata": {},
   "outputs": [],
   "source": [
    "# Extraer una columna\n",
    "columna = h[:,1]\n",
    "columna"
   ]
  },
  {
   "cell_type": "code",
   "execution_count": null,
   "metadata": {},
   "outputs": [],
   "source": [
    "#Extraer grupo de valores\n",
    "grupo = h[0,1:3]\n",
    "grupo"
   ]
  },
  {
   "cell_type": "code",
   "execution_count": null,
   "metadata": {},
   "outputs": [],
   "source": [
    "# Extraer elementos de las columnas pares\n",
    "columnas_pares = h[:,::2]\n",
    "columnas_pares"
   ]
  },
  {
   "cell_type": "code",
   "execution_count": null,
   "metadata": {},
   "outputs": [],
   "source": [
    "# Extraer elementos de las columnas impares\n",
    "columnas_impares = h[:,1::2]\n",
    "columnas_impares"
   ]
  },
  {
   "cell_type": "markdown",
   "metadata": {},
   "source": [
    "### Operaciones con matrices\n",
    "\n",
    "#### Encontrar mínimo y máximo"
   ]
  },
  {
   "cell_type": "code",
   "execution_count": null,
   "metadata": {},
   "outputs": [],
   "source": [
    "i = np.array([(1,7,2), (0,3,9)])\n",
    "print('minimo:', np.min(i))\n",
    "print('maximo:', np.max(i))"
   ]
  },
  {
   "cell_type": "markdown",
   "metadata": {},
   "source": [
    "#### Sumar elementos, raíz cuadrada, media, desviación estandar"
   ]
  },
  {
   "cell_type": "code",
   "execution_count": null,
   "metadata": {},
   "outputs": [],
   "source": [
    "j = np.array([(1,2,3),(4,5,6),(7,8,9)])\n",
    "\n",
    "print('suma:', np.sum(j))\n",
    "\n",
    "print('raíz:')\n",
    "print(np.sqrt(j))\n",
    "\n",
    "print('media:', np.mean(j))\n",
    "\n",
    "print('desviación estandar:', np.std(j))\n"
   ]
  },
  {
   "cell_type": "markdown",
   "metadata": {},
   "source": [
    "#### Suma, resta, multiplicación y división de matrices (element-wise)"
   ]
  },
  {
   "cell_type": "code",
   "execution_count": null,
   "metadata": {},
   "outputs": [],
   "source": [
    "k = np.full((2,3),2)\n",
    "l = np.full((2,3),3)\n",
    "\n",
    "print('matriz 1:', k)\n",
    "print('matriz 2:', l)\n",
    "\n",
    "# Suma\n",
    "suma = k + l\n",
    "print('Suma:')\n",
    "print(suma)\n",
    "\n",
    "# Resta\n",
    "print('Resta:')\n",
    "resta = l - k\n",
    "print(resta)\n",
    "\n",
    "# Multiplicación\n",
    "print('Multiplicación:')\n",
    "mult = k * l\n",
    "print(mult)\n",
    "\n",
    "# División\n",
    "print('División:')\n",
    "div = k / l\n",
    "print(div)"
   ]
  },
  {
   "cell_type": "markdown",
   "metadata": {},
   "source": [
    "#### *Trabajando con NumPy, cuando copiamos, en realidad, estamos haciendo una vista al objeto original, apuntamos al mismo objeto. Solución: forzar copia"
   ]
  },
  {
   "cell_type": "code",
   "execution_count": null,
   "metadata": {},
   "outputs": [],
   "source": [
    "a = np.array([1, 2, 3])\n",
    "b = a[:]\n",
    "print(b)\n",
    "b[0] = 5\n",
    "print(b)\n",
    "print(a)"
   ]
  },
  {
   "cell_type": "code",
   "execution_count": null,
   "metadata": {},
   "outputs": [],
   "source": [
    "a = np.array([1, 2, 3])\n",
    "b = a[:].copy() # fuerzo la copia\n",
    "print(b)\n",
    "b[0] = 5\n",
    "print(b)\n",
    "print(a)"
   ]
  },
  {
   "cell_type": "code",
   "execution_count": null,
   "metadata": {},
   "outputs": [],
   "source": [
    "a = np.arange(6)\n",
    "b = np.ones(6).astype(int)\n",
    "a,b"
   ]
  },
  {
   "cell_type": "markdown",
   "metadata": {},
   "source": [
    "### Funciones de comparación "
   ]
  },
  {
   "cell_type": "code",
   "execution_count": null,
   "metadata": {},
   "outputs": [],
   "source": [
    "a == b"
   ]
  },
  {
   "cell_type": "code",
   "execution_count": null,
   "metadata": {},
   "outputs": [],
   "source": [
    "a != b"
   ]
  },
  {
   "cell_type": "code",
   "execution_count": null,
   "metadata": {},
   "outputs": [],
   "source": [
    "# Element wise\n",
    "a < b"
   ]
  },
  {
   "cell_type": "code",
   "execution_count": null,
   "metadata": {},
   "outputs": [],
   "source": [
    "# Algún elemento\n",
    "np.any(a < b)"
   ]
  },
  {
   "cell_type": "code",
   "execution_count": null,
   "metadata": {},
   "outputs": [],
   "source": [
    "# Todos los elementos\n",
    "np.all(a > b)"
   ]
  },
  {
   "cell_type": "markdown",
   "metadata": {},
   "source": [
    "#### *** Cuidado con el tipo de datos de las matrices a la hora de comparar"
   ]
  },
  {
   "cell_type": "code",
   "execution_count": null,
   "metadata": {},
   "outputs": [],
   "source": [
    "a = np.arange(6).astype(float)\n",
    "b = np.ones(6)\n",
    "a,b"
   ]
  },
  {
   "cell_type": "code",
   "execution_count": null,
   "metadata": {},
   "outputs": [],
   "source": [
    "np.isclose(a, b, rtol=1e-6)"
   ]
  },
  {
   "cell_type": "code",
   "execution_count": null,
   "metadata": {},
   "outputs": [],
   "source": [
    "c = a[np.isclose(a, b, rtol=1e-6) == True]\n",
    "c"
   ]
  },
  {
   "cell_type": "code",
   "execution_count": null,
   "metadata": {},
   "outputs": [],
   "source": [
    "np.random.seed(0) # mismos valores aparecerán en cada nueva ejecución\n",
    "n,m = 100, 100\n",
    "a = np.empty(10000).reshape(n,m)\n",
    "b = np.random.rand(10000).reshape(n,m)\n",
    "c = np.random.rand(10000).reshape(n,m)"
   ]
  },
  {
   "cell_type": "code",
   "execution_count": null,
   "metadata": {},
   "outputs": [],
   "source": [
    "%%timeit\n",
    "for i in range(n):\n",
    "    for j in range(m):\n",
    "        a[i,j] = b[i,j] + c[i,j]"
   ]
  },
  {
   "cell_type": "code",
   "execution_count": null,
   "metadata": {},
   "outputs": [],
   "source": [
    "%%timeit\n",
    " a = b + c"
   ]
  },
  {
   "cell_type": "markdown",
   "metadata": {},
   "source": [
    "## Ejercicios\n",
    "\n",
    "### Ejercicio 1\n",
    "\n",
    "1. Crear un array 3x4 lleno de 0s tipo entero\n",
    "2. Crear un array 3x4 lleno de 0s menos la primera fila que debe estar toda a 1s\n",
    "3. Crear un array 3x4 lleno de ceros, menos la última fila, donde el rango será de 6 a 9"
   ]
  },
  {
   "cell_type": "code",
   "execution_count": null,
   "metadata": {},
   "outputs": [],
   "source": []
  },
  {
   "cell_type": "code",
   "execution_count": null,
   "metadata": {},
   "outputs": [],
   "source": []
  },
  {
   "cell_type": "code",
   "execution_count": null,
   "metadata": {},
   "outputs": [],
   "source": []
  },
  {
   "cell_type": "code",
   "execution_count": null,
   "metadata": {},
   "outputs": [],
   "source": []
  },
  {
   "cell_type": "code",
   "execution_count": null,
   "metadata": {},
   "outputs": [],
   "source": []
  },
  {
   "cell_type": "markdown",
   "metadata": {},
   "source": [
    "### Ejercicio 2 \n",
    "\n",
    "1. Crear un vector de 10 elementos, siendo los impares 1s y los pares 2s\n",
    "2. Crear un tablero de ajedrez, con 1s en las casillas negras y 0s en las blancas"
   ]
  },
  {
   "cell_type": "code",
   "execution_count": null,
   "metadata": {},
   "outputs": [],
   "source": []
  },
  {
   "cell_type": "code",
   "execution_count": null,
   "metadata": {},
   "outputs": [],
   "source": []
  },
  {
   "cell_type": "code",
   "execution_count": null,
   "metadata": {},
   "outputs": [],
   "source": []
  },
  {
   "cell_type": "code",
   "execution_count": null,
   "metadata": {},
   "outputs": [],
   "source": []
  },
  {
   "cell_type": "markdown",
   "metadata": {},
   "source": [
    "### Ejercicio 3\n",
    "\n",
    "1. Crear una matriz aleatoria 10x10 y obten la media y la desviación estandard y obtener un nuevo array que contenga los valores que estén por encima de la media.\n",
    "\n",
    "2. Definir una matriz 20x20 con valores aleatorios entre 0 y 255 y normalizala entre 0 y 1"
   ]
  },
  {
   "cell_type": "code",
   "execution_count": null,
   "metadata": {},
   "outputs": [],
   "source": []
  },
  {
   "cell_type": "code",
   "execution_count": null,
   "metadata": {},
   "outputs": [],
   "source": []
  },
  {
   "cell_type": "code",
   "execution_count": null,
   "metadata": {},
   "outputs": [],
   "source": []
  },
  {
   "cell_type": "code",
   "execution_count": null,
   "metadata": {},
   "outputs": [],
   "source": []
  },
  {
   "cell_type": "code",
   "execution_count": null,
   "metadata": {},
   "outputs": [],
   "source": []
  },
  {
   "cell_type": "code",
   "execution_count": null,
   "metadata": {},
   "outputs": [],
   "source": []
  },
  {
   "cell_type": "code",
   "execution_count": null,
   "metadata": {},
   "outputs": [],
   "source": []
  },
  {
   "cell_type": "markdown",
   "metadata": {},
   "source": [
    "## Bibliografía\n",
    "\n",
    "https://docs.python.org/3/\n",
    "\n",
    "https://www.medium.com\n",
    "\n",
    "https://www.bejob.com\n",
    "\n",
    "https://www.paradigmadigital.com"
   ]
  }
 ],
 "metadata": {
  "kernelspec": {
   "display_name": "Python 3",
   "language": "python",
   "name": "python3"
  },
  "language_info": {
   "codemirror_mode": {
    "name": "ipython",
    "version": 3
   },
   "file_extension": ".py",
   "mimetype": "text/x-python",
   "name": "python",
   "nbconvert_exporter": "python",
   "pygments_lexer": "ipython3",
   "version": "3.6.5"
  }
 },
 "nbformat": 4,
 "nbformat_minor": 2
}
