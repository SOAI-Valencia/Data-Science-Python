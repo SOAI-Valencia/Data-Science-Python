{
 "cells": [
  {
   "attachments": {},
   "cell_type": "markdown",
   "metadata": {},
   "source": [
    "# Curso Iniciación Python: NumPy\n",
    "\n",
    "##################################################################\n",
    "\n",
    "Fecha: 20/06/2019\n",
    "\n",
    "Autores: \n",
    "\n",
    "    Ana Jimenez Pastor\n",
    "    \n",
    "    Rafael López González\n",
    "    \n",
    "    Jose Sánchez García\n",
    "\n",
    "Quibim S.L.\n",
    "\n",
    "![logo.png](./logo.png)\n",
    "\n",
    "##################################################################\n",
    "\n",
    "# Python\n",
    "\n",
    "Python es un lenguaje de programación interpretado cuya filosofía consiste en una sintaxis muy limpia y que favorece un código legible.\n",
    "\n",
    "Un lenguaje interpretado o de script es aquel que se ejecuta utilizando un programa intermedio llamado intérprete, un lugar de compilar el código a lenguaje máquina que pueda comprender y ejecutar directamente una computadora (lenguajes compilados). La ventaja de los lenguajes compilados es que su ejecución es más rápida. Sin embargo los lenguajes interpretados son más flexibles y más portables. Python tiene, no obstante, muchas de las características de los lenguajes compilados, por lo que se podría decir que es semi interpretado. En Python,  como en Java y muchos otros lenguajes, el código fuente se traduce a un pseudo código máquina intermedio llamado bytecode la primera vez que se ejecuta, generando archivos .pyc o .pyo (bytecode optimizado), que son los que se ejecutarán en sucesivas ocasiones.\n",
    "\n",
    "Básicamente un lenguaje interpretado es aquel en el cual sus instrucciones o más bien el código fuente, escrito por el programador en un lenguaje de alto nivel, es traducido por el interprete a un lenguaje entendible para la máquina paso a paso, instrucción por instrucción. El proceso se repite cada vez que se ejecuta el programa el código en cuestión.\n",
    "\n",
    "\n",
    "## Principales ventajas\n",
    "\n",
    "### 1. Multiplataforma\n",
    "\n",
    "Python es un lenguaje de programación interpretado, por lo que funciona en cualquier tipo de sistema que integre su interpretador. \n",
    "\n",
    "### 2. Frameworks de gran utilidad\n",
    "\n",
    "Permite desarrollar cualquier tipo de vía, como por ejemplo web o móvil. Para que esto se lleve a cabo, este lenguaje de programación cuenta con frameworks de gran calibre, los cuales auxilian desde el desarrollo web, hasta el desarrollo de juegos o algoritmos científicos de cálculos avanzados.\n",
    "\n",
    "### 3. Es libre y nos ofrece código abierto\n",
    "\n",
    "Si hablamos de la licencia que posee, ésta es Python Software Foundation License, licencia muy parecida a la de GPL, pero encontrando la excepción de que se pueden distribuir los binarios del lenguaje sin tener que anexar las fuentes.\n",
    "\n",
    "### 4. Gran calidad en su sintaxis\n",
    "\n",
    "Esta es una de sus características más notorias. En Python, un bloque de código interno como puede ser un if, se crea a través de indentaciones, lo que fuerza al desarrollador a indentar su código fuente garantizando una legibilidad notoria.\n",
    "\n",
    "### 5. Programación orientada a objetos\n",
    "\n",
    "La programación orientada a objetos se utiliza para tratar el rápido aumento en el tamaño y la complejidad de los sistemas de software, y facilitar la modificación de esos grandes y complicados sistemas a lo largo del tiempo.\n",
    "\n",
    "### 6. Empresas de alto prestigio utilizan Python para programar todo tipo de aplicaciones y servicios\n",
    "\n",
    "Algunos casos de éxito en el uso de Python son Google, Yahoo, la NASA, Industrias Light & Magic, y todas las distribuciones Linux, en las que Python cada vez representa un tanto por ciento mayor de los programas disponibles.\n",
    "\n",
    "### 7. Gran disponibilidad de librerías\n",
    "\n",
    "Podemos hablar de tecnología para Big Data como PySpark, de herramientas para Data Science como Pandas, NumPy, Matplotlib o Jupyter. De herramientas del procesamiento del lenguaje natural como NLTK, y por último el área de machine learning que tanto interés está despertando con herramientas como Tensorflow, keras o scikit-learn.\n",
    "\n",
    "### 8. Ofrece un tipado dinámico fuerte\n",
    "\n",
    "Por último, cabe destacar la fácil atribución de una variable que nos ofrece a cualquier tipo de valor, y lo mejor de todo, en cualquier lugar de su código fuente.\n",
    "\n",
    "\n",
    "## Conclusión\n",
    "\n",
    "Python es un lenguaje maduro, con una gran base de desarrolladores, documentación y proyectos en producción. El crecimiento en el uso del lenguaje está siendo espectacular gracias, fundamentalmente, a las nuevas tecnologías de Data Science y Machine Learning, donde junto con el lenguaje R es el rey.\n",
    "\n",
    "Sin embargo, R es un lenguaje más de nicho que proviene del mundo de la estadística. Python, por otro lado, es un lenguaje de propósito general y su uso está mucho más extendido.\n",
    "\n",
    "En la siguiente gráfica vemos una proyección para los próximos años de Stackoverflow sobre el número de visitas que espera recibir en función de los principales lenguajes de programación.\n",
    "\n",
    "![stackoverflow.png](./stackoverflow.png)\n",
    "\n",
    "Si hablamos específicamente del área de datos, las comparativas son aún más demoledoras. Recientemente, Kaggle, la plataforma para Machine Learning y Data Science de Google, ha realizado un estudio recopilando información sobre las preferencias de los profesionales del sector.\n",
    "\n",
    "Un dato muy significativo es la respuesta a la pregunta: ¿Qué lenguaje de programación recomendaría a los nuevos científicos de datos aprender primero? Más del 63% de los encuestados respondió Python.\n",
    "\n",
    "![kaggle.png](./kaggle.png)\n",
    "\n",
    "\n",
    "# Introducción a NumPy\n",
    "\n",
    "NumPy es una librería de python (NUMerical PYthon) para trabajar con arreglos numéricos y uno de los paquetes más importantes en machine learning junto con pandas, matplotlib y scikitlearn.\n",
    "\n",
    "Esta librería proporciona una estructura de datos de matriz y presenta grandes ventajas frente a las listas regulares de python. Es la librería principal en la informática científica. Permite crear potentes estructuras de datos implementando matrices multidimensionales y garantizando cálculos eficientes.\n"
   ]
  },
  {
   "cell_type": "code",
   "execution_count": 173,
   "metadata": {
    "scrolled": true
   },
   "outputs": [],
   "source": [
    "import numpy as np # Importar numpy\n",
    "np.random.seed(0) # mismos valores aparecerán en cada nueva ejecución"
   ]
  },
  {
   "cell_type": "code",
   "execution_count": 174,
   "metadata": {},
   "outputs": [
    {
     "name": "stdout",
     "output_type": "stream",
     "text": [
      "vector:\n",
      "[1 2 3 4 5 6]\n",
      "matriz:\n",
      "[[1 2 3]\n",
      " [4 5 6]]\n"
     ]
    }
   ],
   "source": [
    "vector = np.array([1,2,3,4,5,6])\n",
    "print('vector:')\n",
    "print(vector)\n",
    "\n",
    "matriz = np.array([(1,2,3),(4,5,6)])\n",
    "print('matriz:')\n",
    "print(matriz)"
   ]
  },
  {
   "cell_type": "markdown",
   "metadata": {},
   "source": [
    "## Principales ventajas\n",
    "\n",
    "1. Ocupa menos espacio en memoria\n",
    "2. Funciona mucho más rápido\n",
    "3. Es funcional"
   ]
  },
  {
   "cell_type": "markdown",
   "metadata": {},
   "source": [
    "### Espacio en memoria"
   ]
  },
  {
   "cell_type": "code",
   "execution_count": 3,
   "metadata": {},
   "outputs": [
    {
     "name": "stdout",
     "output_type": "stream",
     "text": [
      "Espacio ocupado por la lista de Python: 2800\n",
      "Espacio ocupado por el NumPy array: 400\n"
     ]
    }
   ],
   "source": [
    "# Espacio en memoria\n",
    "\n",
    "import sys\n",
    "lista = range(100)\n",
    "print('Espacio ocupado por la lista de Python:', sys.getsizeof(5) * len(lista))\n",
    "\n",
    "array = np.arange(100)\n",
    "print('Espacio ocupado por el NumPy array:', array.size * array.itemsize)\n"
   ]
  },
  {
   "cell_type": "markdown",
   "metadata": {},
   "source": [
    "### Tiempo de ejecución"
   ]
  },
  {
   "cell_type": "code",
   "execution_count": null,
   "metadata": {},
   "outputs": [],
   "source": [
    "# Tiempo de ejecución\n",
    "\n",
    "import time\n",
    "\n",
    "size = 100000\n",
    "\n",
    "lista1 = range(size)\n",
    "lista2 = range(size)\n",
    "\n",
    "array1 = np.arange(size)\n",
    "array2 = np.arange(size)\n",
    "\n",
    "tic = time.time()\n",
    "suma = [(x,y) for x,y in zip(lista1, lista2)]\n",
    "print('Tiempo ejecución con listas:')\n",
    "print((time.time() - tic) * 1000)\n",
    "\n",
    "tic = time.time()\n",
    "suma = array1 + array2\n",
    "print('Tiempo ejecución con arrays:')\n",
    "print((time.time() - tic) * 1000)\n",
    "\n"
   ]
  },
  {
   "cell_type": "markdown",
   "metadata": {},
   "source": [
    "### Funciones\n",
    "\n",
    "#### Matriz vacía"
   ]
  },
  {
   "cell_type": "code",
   "execution_count": 10,
   "metadata": {},
   "outputs": [
    {
     "name": "stdout",
     "output_type": "stream",
     "text": [
      "[[0. 0. 0.]\n",
      " [0. 0. 0.]]\n"
     ]
    }
   ],
   "source": [
    "a = np.zeros((2,3))\n",
    "print(a)"
   ]
  },
  {
   "cell_type": "markdown",
   "metadata": {},
   "source": [
    "#### Matriz de unos"
   ]
  },
  {
   "cell_type": "code",
   "execution_count": 165,
   "metadata": {},
   "outputs": [
    {
     "data": {
      "text/plain": [
       "array([[1., 1., 1.],\n",
       "       [1., 1., 1.]])"
      ]
     },
     "execution_count": 165,
     "metadata": {},
     "output_type": "execute_result"
    }
   ],
   "source": [
    "b = np.ones((2,3))\n",
    "b"
   ]
  },
  {
   "cell_type": "markdown",
   "metadata": {},
   "source": [
    "#### Matriz aleatoria"
   ]
  },
  {
   "cell_type": "code",
   "execution_count": 164,
   "metadata": {},
   "outputs": [
    {
     "data": {
      "text/plain": [
       "array([[0.8482685 , 0.18800181, 0.97963784],\n",
       "       [0.75796438, 0.75323021, 0.98138477]])"
      ]
     },
     "execution_count": 164,
     "metadata": {},
     "output_type": "execute_result"
    }
   ],
   "source": [
    "c = np.random.random((2,3))\n",
    "c"
   ]
  },
  {
   "cell_type": "code",
   "execution_count": 163,
   "metadata": {},
   "outputs": [
    {
     "data": {
      "text/plain": [
       "array([4, 3, 2, 4, 2, 4, 3, 2, 4, 0])"
      ]
     },
     "execution_count": 163,
     "metadata": {},
     "output_type": "execute_result"
    }
   ],
   "source": [
    "# Marcar límites de la generación aleatoria\n",
    "c = np.random.randint(0, 5, 10)\n",
    "c"
   ]
  },
  {
   "cell_type": "markdown",
   "metadata": {},
   "source": [
    "#### Matriz valor unico"
   ]
  },
  {
   "cell_type": "code",
   "execution_count": 161,
   "metadata": {},
   "outputs": [
    {
     "data": {
      "text/plain": [
       "array([[4, 4, 4],\n",
       "       [4, 4, 4]])"
      ]
     },
     "execution_count": 161,
     "metadata": {},
     "output_type": "execute_result"
    }
   ],
   "source": [
    "d = np.full ((2,3),4)\n",
    "d"
   ]
  },
  {
   "cell_type": "markdown",
   "metadata": {},
   "source": [
    "#### Matriz valores equiespaciados"
   ]
  },
  {
   "cell_type": "code",
   "execution_count": 166,
   "metadata": {},
   "outputs": [
    {
     "data": {
      "text/plain": [
       "array([ 0, 10, 20, 30, 40, 50])"
      ]
     },
     "execution_count": 166,
     "metadata": {},
     "output_type": "execute_result"
    }
   ],
   "source": [
    "e = np.arange(0,60,10)\n",
    "e"
   ]
  },
  {
   "cell_type": "markdown",
   "metadata": {},
   "source": [
    "#### Matriz identidad"
   ]
  },
  {
   "cell_type": "code",
   "execution_count": 167,
   "metadata": {},
   "outputs": [
    {
     "data": {
      "text/plain": [
       "array([[1., 0., 0., 0., 0.],\n",
       "       [0., 1., 0., 0., 0.],\n",
       "       [0., 0., 1., 0., 0.],\n",
       "       [0., 0., 0., 1., 0.],\n",
       "       [0., 0., 0., 0., 1.]])"
      ]
     },
     "execution_count": 167,
     "metadata": {},
     "output_type": "execute_result"
    }
   ],
   "source": [
    "f = np.eye(5,5)\n",
    "f"
   ]
  },
  {
   "cell_type": "markdown",
   "metadata": {},
   "source": [
    "#### Carácteristicas matriz creada"
   ]
  },
  {
   "cell_type": "code",
   "execution_count": 16,
   "metadata": {},
   "outputs": [
    {
     "name": "stdout",
     "output_type": "stream",
     "text": [
      "dimensiones: (5, 5)\n",
      "tipo de datos: float64\n"
     ]
    }
   ],
   "source": [
    "print('dimensiones:', f.shape)\n",
    "print('tipo de datos:', f.dtype)"
   ]
  },
  {
   "cell_type": "markdown",
   "metadata": {},
   "source": [
    "#### Cambio de dimensiones"
   ]
  },
  {
   "cell_type": "code",
   "execution_count": 169,
   "metadata": {},
   "outputs": [
    {
     "name": "stdout",
     "output_type": "stream",
     "text": [
      "matriz d:\n",
      "[[4 4 4]\n",
      " [4 4 4]]\n"
     ]
    },
    {
     "data": {
      "text/plain": [
       "array([[4, 4],\n",
       "       [4, 4],\n",
       "       [4, 4]])"
      ]
     },
     "execution_count": 169,
     "metadata": {},
     "output_type": "execute_result"
    }
   ],
   "source": [
    "print('matriz d:')\n",
    "print(d)\n",
    "g = d.reshape(3,2)\n",
    "g"
   ]
  },
  {
   "cell_type": "markdown",
   "metadata": {},
   "source": [
    "#### Extraer valores de una matriz"
   ]
  },
  {
   "cell_type": "code",
   "execution_count": 170,
   "metadata": {},
   "outputs": [
    {
     "data": {
      "text/plain": [
       "array([[ 1,  2,  3,  4,  5],\n",
       "       [ 6,  7,  8,  9, 10]])"
      ]
     },
     "execution_count": 170,
     "metadata": {},
     "output_type": "execute_result"
    }
   ],
   "source": [
    "h =  np.array([(1,2,3,4,5), (6,7,8,9,10)])\n",
    "h"
   ]
  },
  {
   "cell_type": "code",
   "execution_count": 79,
   "metadata": {},
   "outputs": [
    {
     "name": "stdout",
     "output_type": "stream",
     "text": [
      "8\n"
     ]
    }
   ],
   "source": [
    "# Extraer un único valor\n",
    "print(h[1,2])"
   ]
  },
  {
   "cell_type": "code",
   "execution_count": 149,
   "metadata": {},
   "outputs": [
    {
     "name": "stdout",
     "output_type": "stream",
     "text": [
      "10\n"
     ]
    }
   ],
   "source": [
    "# Extraer valor empezando por el final\n",
    "print(h[1,-1])"
   ]
  },
  {
   "cell_type": "code",
   "execution_count": 81,
   "metadata": {},
   "outputs": [
    {
     "data": {
      "text/plain": [
       "array([1, 2, 3, 4, 5])"
      ]
     },
     "execution_count": 81,
     "metadata": {},
     "output_type": "execute_result"
    }
   ],
   "source": [
    "# Extraer una fila\n",
    "fila = h[0,:]\n",
    "fila"
   ]
  },
  {
   "cell_type": "code",
   "execution_count": 83,
   "metadata": {},
   "outputs": [
    {
     "data": {
      "text/plain": [
       "array([2, 7])"
      ]
     },
     "execution_count": 83,
     "metadata": {},
     "output_type": "execute_result"
    }
   ],
   "source": [
    "# Extraer una columna\n",
    "columna = h[:,1]\n",
    "columna"
   ]
  },
  {
   "cell_type": "code",
   "execution_count": 84,
   "metadata": {},
   "outputs": [
    {
     "data": {
      "text/plain": [
       "array([2, 3])"
      ]
     },
     "execution_count": 84,
     "metadata": {},
     "output_type": "execute_result"
    }
   ],
   "source": [
    "#Extraer grupo de valores\n",
    "grupo = h[0,1:3]\n",
    "grupo"
   ]
  },
  {
   "cell_type": "code",
   "execution_count": 159,
   "metadata": {},
   "outputs": [
    {
     "data": {
      "text/plain": [
       "array([[ 1,  3,  5],\n",
       "       [ 6,  8, 10]])"
      ]
     },
     "execution_count": 159,
     "metadata": {},
     "output_type": "execute_result"
    }
   ],
   "source": [
    "# Extraer elementos de las columnas pares\n",
    "columnas_pares = h[:,::2]\n",
    "columnas_pares"
   ]
  },
  {
   "cell_type": "code",
   "execution_count": 160,
   "metadata": {},
   "outputs": [
    {
     "data": {
      "text/plain": [
       "array([[2, 4],\n",
       "       [7, 9]])"
      ]
     },
     "execution_count": 160,
     "metadata": {},
     "output_type": "execute_result"
    }
   ],
   "source": [
    "# Extraer elementos de las columnas impares\n",
    "columnas_impares = h[:,1::2]\n",
    "columnas_impares"
   ]
  },
  {
   "cell_type": "markdown",
   "metadata": {},
   "source": [
    "### Operaciones con matrices\n",
    "\n",
    "#### Encontrar mínimo y máximo"
   ]
  },
  {
   "cell_type": "code",
   "execution_count": 85,
   "metadata": {},
   "outputs": [
    {
     "name": "stdout",
     "output_type": "stream",
     "text": [
      "minimo: 0\n",
      "maximo: 9\n"
     ]
    }
   ],
   "source": [
    "i = np.array([(1,7,2), (0,3,9)])\n",
    "print('minimo:', i.min())\n",
    "print('maximo:', i.max())"
   ]
  },
  {
   "cell_type": "markdown",
   "metadata": {},
   "source": [
    "#### Sumar elementos, raíz cuadrada, media, desviación estandar"
   ]
  },
  {
   "cell_type": "code",
   "execution_count": 29,
   "metadata": {},
   "outputs": [
    {
     "name": "stdout",
     "output_type": "stream",
     "text": [
      "suma: 45\n",
      "raíz:\n",
      "[[1.         1.41421356 1.73205081]\n",
      " [2.         2.23606798 2.44948974]\n",
      " [2.64575131 2.82842712 3.        ]]\n",
      "media: 5.0\n",
      "desviación estandar: 2.581988897471611\n"
     ]
    }
   ],
   "source": [
    "j = np.array([(1,2,3),(4,5,6),(7,8,9)])\n",
    "\n",
    "print('suma:', j.sum())\n",
    "\n",
    "print('raíz:')\n",
    "print(np.sqrt(j))\n",
    "\n",
    "print('media:', np.mean(j))\n",
    "\n",
    "print('desviación estandar:', np.std(j))\n"
   ]
  },
  {
   "cell_type": "markdown",
   "metadata": {},
   "source": [
    "#### Suma, resta, multiplicación y división de matrices (element-wise)"
   ]
  },
  {
   "cell_type": "code",
   "execution_count": 32,
   "metadata": {},
   "outputs": [
    {
     "name": "stdout",
     "output_type": "stream",
     "text": [
      "matriz 1: [[2 2 2]\n",
      " [2 2 2]]\n",
      "matriz 2: [[3 3 3]\n",
      " [3 3 3]]\n",
      "Suma:\n",
      "[[5 5 5]\n",
      " [5 5 5]]\n",
      "Resta:\n",
      "[[1 1 1]\n",
      " [1 1 1]]\n",
      "Multiplicación:\n",
      "[[6 6 6]\n",
      " [6 6 6]]\n",
      "División:\n",
      "[[0.66666667 0.66666667 0.66666667]\n",
      " [0.66666667 0.66666667 0.66666667]]\n"
     ]
    }
   ],
   "source": [
    "k = np.full((2,3),2)\n",
    "l = np.full((2,3),3)\n",
    "\n",
    "print('matriz 1:', k)\n",
    "print('matriz 2:', l)\n",
    "\n",
    "# Suma\n",
    "suma = k + l\n",
    "print('Suma:')\n",
    "print(suma)\n",
    "\n",
    "# Resta\n",
    "print('Resta:')\n",
    "resta = l - k\n",
    "print(resta)\n",
    "\n",
    "# Multiplicación\n",
    "print('Multiplicación:')\n",
    "mult = k * l\n",
    "print(mult)\n",
    "\n",
    "# División\n",
    "print('División:')\n",
    "div = k / l\n",
    "print(div)"
   ]
  },
  {
   "cell_type": "markdown",
   "metadata": {},
   "source": [
    "#### *Trabajando con NumPy, cuando copiamos, en realidad, estamos haciendo una vista al objeto original, apuntamos al mismo objeto. Solución: forzar copia"
   ]
  },
  {
   "cell_type": "code",
   "execution_count": 39,
   "metadata": {},
   "outputs": [
    {
     "name": "stdout",
     "output_type": "stream",
     "text": [
      "[1 2 3]\n",
      "[5 2 3]\n",
      "[5 2 3]\n"
     ]
    }
   ],
   "source": [
    "a = np.array([1, 2, 3])\n",
    "b = a[:]\n",
    "print(b)\n",
    "b[0] = 5\n",
    "print(b)\n",
    "print(a)"
   ]
  },
  {
   "cell_type": "code",
   "execution_count": 44,
   "metadata": {},
   "outputs": [
    {
     "name": "stdout",
     "output_type": "stream",
     "text": [
      "[1 2 3]\n",
      "[5 2 3]\n",
      "[1 2 3]\n"
     ]
    }
   ],
   "source": [
    "a = np.array([1, 2, 3])\n",
    "b = a[:].copy() # fuerzo la copia\n",
    "print(b)\n",
    "b[0] = 5\n",
    "print(b)\n",
    "print(a)"
   ]
  },
  {
   "cell_type": "code",
   "execution_count": 89,
   "metadata": {},
   "outputs": [
    {
     "data": {
      "text/plain": [
       "(array([0, 1, 2, 3, 4, 5]), array([1, 1, 1, 1, 1, 1]))"
      ]
     },
     "execution_count": 89,
     "metadata": {},
     "output_type": "execute_result"
    }
   ],
   "source": [
    "a = np.arange(6)\n",
    "b = np.ones(6).astype(int)\n",
    "a,b"
   ]
  },
  {
   "cell_type": "markdown",
   "metadata": {},
   "source": [
    "### Funciones de comparación "
   ]
  },
  {
   "cell_type": "code",
   "execution_count": 90,
   "metadata": {},
   "outputs": [
    {
     "data": {
      "text/plain": [
       "array([False,  True, False, False, False, False])"
      ]
     },
     "execution_count": 90,
     "metadata": {},
     "output_type": "execute_result"
    }
   ],
   "source": [
    "a == b"
   ]
  },
  {
   "cell_type": "code",
   "execution_count": 93,
   "metadata": {},
   "outputs": [
    {
     "data": {
      "text/plain": [
       "array([ True, False,  True,  True,  True,  True])"
      ]
     },
     "execution_count": 93,
     "metadata": {},
     "output_type": "execute_result"
    }
   ],
   "source": [
    "a != b"
   ]
  },
  {
   "cell_type": "code",
   "execution_count": 91,
   "metadata": {},
   "outputs": [
    {
     "data": {
      "text/plain": [
       "array([ True, False, False, False, False, False])"
      ]
     },
     "execution_count": 91,
     "metadata": {},
     "output_type": "execute_result"
    }
   ],
   "source": [
    "# Element wise\n",
    "a < b"
   ]
  },
  {
   "cell_type": "code",
   "execution_count": 92,
   "metadata": {},
   "outputs": [
    {
     "data": {
      "text/plain": [
       "True"
      ]
     },
     "execution_count": 92,
     "metadata": {},
     "output_type": "execute_result"
    }
   ],
   "source": [
    "# Algún elemento\n",
    "np.any(a < b)"
   ]
  },
  {
   "cell_type": "code",
   "execution_count": 88,
   "metadata": {},
   "outputs": [
    {
     "data": {
      "text/plain": [
       "True"
      ]
     },
     "execution_count": 88,
     "metadata": {},
     "output_type": "execute_result"
    }
   ],
   "source": [
    "# Todos los elementos\n",
    "np.all(a > b)"
   ]
  },
  {
   "cell_type": "markdown",
   "metadata": {},
   "source": [
    "#### *** Cuidado con el tipo de datos de las matrices a la hora de comparar"
   ]
  },
  {
   "cell_type": "code",
   "execution_count": 56,
   "metadata": {},
   "outputs": [
    {
     "data": {
      "text/plain": [
       "(array([0., 1., 2., 3., 4., 5.]), array([1., 1., 1., 1., 1., 1.]))"
      ]
     },
     "execution_count": 56,
     "metadata": {},
     "output_type": "execute_result"
    }
   ],
   "source": [
    "a = np.arange(6).astype(float)\n",
    "b = np.ones(6)\n",
    "a,b"
   ]
  },
  {
   "cell_type": "code",
   "execution_count": 57,
   "metadata": {},
   "outputs": [
    {
     "data": {
      "text/plain": [
       "array([False,  True, False, False, False, False])"
      ]
     },
     "execution_count": 57,
     "metadata": {},
     "output_type": "execute_result"
    }
   ],
   "source": [
    "np.isclose(a, b, rtol=1e-6)"
   ]
  },
  {
   "cell_type": "code",
   "execution_count": 62,
   "metadata": {},
   "outputs": [
    {
     "data": {
      "text/plain": [
       "array([1.])"
      ]
     },
     "execution_count": 62,
     "metadata": {},
     "output_type": "execute_result"
    }
   ],
   "source": [
    "c = a[np.isclose(a, b, rtol=1e-6) == True]\n",
    "c"
   ]
  },
  {
   "cell_type": "code",
   "execution_count": 65,
   "metadata": {},
   "outputs": [],
   "source": [
    "n,m = 100, 100\n",
    "a = np.empty(10000).reshape(n,m)\n",
    "b = np.random.rand(10000).reshape(n,m)\n",
    "c = np.random.rand(10000).reshape(n,m)"
   ]
  },
  {
   "cell_type": "code",
   "execution_count": 66,
   "metadata": {},
   "outputs": [
    {
     "name": "stdout",
     "output_type": "stream",
     "text": [
      "3.79 ms ± 42.8 µs per loop (mean ± std. dev. of 7 runs, 100 loops each)\n"
     ]
    }
   ],
   "source": [
    "%%timeit\n",
    "for i in range(n):\n",
    "    for j in range(m):\n",
    "        a[i,j] = b[i,j] + c[i,j]"
   ]
  },
  {
   "cell_type": "code",
   "execution_count": 67,
   "metadata": {},
   "outputs": [
    {
     "name": "stdout",
     "output_type": "stream",
     "text": [
      "4.46 µs ± 36.6 ns per loop (mean ± std. dev. of 7 runs, 100000 loops each)\n"
     ]
    }
   ],
   "source": [
    "%%timeit\n",
    " a = b + c"
   ]
  },
  {
   "cell_type": "markdown",
   "metadata": {},
   "source": [
    "## Ejercicios\n",
    "\n",
    "### Ejercicio 1\n",
    "\n",
    "1. Crear un array 3x4 lleno de 0s tipo entero\n",
    "2. Crear un array 3x4 lleno de 0s menos la última fila que debe estar toda a 1s\n",
    "3. Crear un array 3x4 lleno de ceros, menos la última fila, donde el rango será de 6 a 9"
   ]
  },
  {
   "cell_type": "code",
   "execution_count": 95,
   "metadata": {},
   "outputs": [
    {
     "data": {
      "text/plain": [
       "array([[0., 0., 0., 0.],\n",
       "       [0., 0., 0., 0.],\n",
       "       [0., 0., 0., 0.]])"
      ]
     },
     "execution_count": 95,
     "metadata": {},
     "output_type": "execute_result"
    }
   ],
   "source": [
    "a = np.zeros((3,4))\n",
    "a"
   ]
  },
  {
   "cell_type": "code",
   "execution_count": 99,
   "metadata": {},
   "outputs": [
    {
     "data": {
      "text/plain": [
       "array([[1., 1., 1., 1.],\n",
       "       [0., 0., 0., 0.],\n",
       "       [0., 0., 0., 0.]])"
      ]
     },
     "execution_count": 99,
     "metadata": {},
     "output_type": "execute_result"
    }
   ],
   "source": [
    "a[0,:] = 1\n",
    "a"
   ]
  },
  {
   "cell_type": "code",
   "execution_count": 104,
   "metadata": {},
   "outputs": [
    {
     "data": {
      "text/plain": [
       "array([[0., 0., 0., 0.],\n",
       "       [0., 0., 0., 0.],\n",
       "       [0., 0., 0., 0.]])"
      ]
     },
     "execution_count": 104,
     "metadata": {},
     "output_type": "execute_result"
    }
   ],
   "source": [
    "b = np.zeros((3,4))\n",
    "b"
   ]
  },
  {
   "cell_type": "code",
   "execution_count": 107,
   "metadata": {},
   "outputs": [
    {
     "data": {
      "text/plain": [
       "array([[0., 0., 0., 0.],\n",
       "       [0., 0., 0., 0.],\n",
       "       [6., 7., 8., 9.]])"
      ]
     },
     "execution_count": 107,
     "metadata": {},
     "output_type": "execute_result"
    }
   ],
   "source": [
    "b[-1,:] = np.arange(6,10)\n",
    "b"
   ]
  },
  {
   "cell_type": "markdown",
   "metadata": {},
   "source": [
    "### Ejercicio 2 \n",
    "\n",
    "1. Crear un vector de 10 elementos, siendo los impares 1s y los pares 2s\n",
    "2. Crear un tablero de ajedrez, con 1s en las casillas negras y 0s en las blancas"
   ]
  },
  {
   "cell_type": "code",
   "execution_count": 111,
   "metadata": {},
   "outputs": [
    {
     "data": {
      "text/plain": [
       "array([1., 1., 1., 1., 1., 1., 1., 1., 1., 1.])"
      ]
     },
     "execution_count": 111,
     "metadata": {},
     "output_type": "execute_result"
    }
   ],
   "source": [
    "a = np.ones(10)\n",
    "a"
   ]
  },
  {
   "cell_type": "code",
   "execution_count": 113,
   "metadata": {},
   "outputs": [
    {
     "data": {
      "text/plain": [
       "array([2., 1., 2., 1., 2., 1., 2., 1., 2., 1.])"
      ]
     },
     "execution_count": 113,
     "metadata": {},
     "output_type": "execute_result"
    }
   ],
   "source": [
    "a[::2] = 2\n",
    "a"
   ]
  },
  {
   "cell_type": "code",
   "execution_count": 152,
   "metadata": {},
   "outputs": [
    {
     "data": {
      "text/plain": [
       "array([[0., 0., 0., 0., 0., 0., 0., 0.],\n",
       "       [0., 0., 0., 0., 0., 0., 0., 0.],\n",
       "       [0., 0., 0., 0., 0., 0., 0., 0.],\n",
       "       [0., 0., 0., 0., 0., 0., 0., 0.],\n",
       "       [0., 0., 0., 0., 0., 0., 0., 0.],\n",
       "       [0., 0., 0., 0., 0., 0., 0., 0.],\n",
       "       [0., 0., 0., 0., 0., 0., 0., 0.],\n",
       "       [0., 0., 0., 0., 0., 0., 0., 0.]])"
      ]
     },
     "execution_count": 152,
     "metadata": {},
     "output_type": "execute_result"
    }
   ],
   "source": [
    "tablero = np.zeros((8,8))\n",
    "tablero"
   ]
  },
  {
   "cell_type": "code",
   "execution_count": 155,
   "metadata": {},
   "outputs": [
    {
     "data": {
      "text/plain": [
       "array([[0., 1., 0., 1., 0., 1., 0., 1.],\n",
       "       [1., 0., 1., 0., 1., 0., 1., 0.],\n",
       "       [0., 1., 0., 1., 0., 1., 0., 1.],\n",
       "       [1., 0., 1., 0., 1., 0., 1., 0.],\n",
       "       [0., 1., 0., 1., 0., 1., 0., 1.],\n",
       "       [1., 0., 1., 0., 1., 0., 1., 0.],\n",
       "       [0., 1., 0., 1., 0., 1., 0., 1.],\n",
       "       [1., 0., 1., 0., 1., 0., 1., 0.]])"
      ]
     },
     "execution_count": 155,
     "metadata": {},
     "output_type": "execute_result"
    }
   ],
   "source": [
    "tablero[1::2, ::2] = 1\n",
    "tablero[::2, 1::2] = 1\n",
    "tablero"
   ]
  },
  {
   "cell_type": "markdown",
   "metadata": {},
   "source": [
    "### Ejercicio 3\n",
    "\n",
    "1. Crear una matriz aleatoria 10x10 y obten la media y la desviación estandard y obtener un nuevo array que contenga los valores que estén por encima de la media.\n",
    "\n",
    "2. Definir una matriz 20x20 con valores aleatorios entre 0 y 255 y normalizala entre 0 y 1"
   ]
  },
  {
   "cell_type": "code",
   "execution_count": 119,
   "metadata": {},
   "outputs": [
    {
     "data": {
      "text/plain": [
       "array([[0.06821365, 0.14774896, 0.09074142, 0.28264   , 0.9313025 ,\n",
       "        0.65791157, 0.45415892, 0.82224595, 0.90487544, 0.6233505 ],\n",
       "       [0.23683736, 0.13929849, 0.09218334, 0.70245276, 0.50767467,\n",
       "        0.97920704, 0.50331881, 0.63466276, 0.15588592, 0.80734477],\n",
       "       [0.80732019, 0.08086704, 0.28519978, 0.94249332, 0.69002114,\n",
       "        0.9455316 , 0.23878949, 0.1480083 , 0.2268519 , 0.75186013],\n",
       "       [0.99585903, 0.8970122 , 0.81521833, 0.74527672, 0.52759414,\n",
       "        0.1793373 , 0.89305533, 0.10296897, 0.45049352, 0.21969932],\n",
       "       [0.18751114, 0.35192922, 0.26286596, 0.28998099, 0.88296392,\n",
       "        0.2793597 , 0.8130366 , 0.57261115, 0.81691243, 0.28512499],\n",
       "       [0.60965449, 0.33207282, 0.15860117, 0.08393165, 0.37454755,\n",
       "        0.35759393, 0.16642475, 0.97824002, 0.70606262, 0.48417048],\n",
       "       [0.14457058, 0.37925099, 0.14909758, 0.8277162 , 0.15675487,\n",
       "        0.19866279, 0.61272905, 0.5402625 , 0.328999  , 0.51563988],\n",
       "       [0.87010487, 0.83008308, 0.24687448, 0.69087213, 0.0220139 ,\n",
       "        0.73943572, 0.64003862, 0.57974534, 0.84297819, 0.04405037],\n",
       "       [0.38454988, 0.7183443 , 0.47625566, 0.12865875, 0.8866204 ,\n",
       "        0.63333466, 0.74246382, 0.55045178, 0.20444111, 0.42300932],\n",
       "       [0.63278323, 0.58539391, 0.8150477 , 0.76113545, 0.61452823,\n",
       "        0.76478308, 0.42383029, 0.26220294, 0.11746442, 0.84768977]])"
      ]
     },
     "execution_count": 119,
     "metadata": {},
     "output_type": "execute_result"
    }
   ],
   "source": [
    "a = np.random.random((10,10))\n",
    "a"
   ]
  },
  {
   "cell_type": "code",
   "execution_count": 121,
   "metadata": {},
   "outputs": [
    {
     "data": {
      "text/plain": [
       "(0.50011976970905, 0.28588643738333974)"
      ]
     },
     "execution_count": 121,
     "metadata": {},
     "output_type": "execute_result"
    }
   ],
   "source": [
    "media = a.mean()\n",
    "desv_est = a.std()\n",
    "\n",
    "media, desv_est"
   ]
  },
  {
   "cell_type": "code",
   "execution_count": 122,
   "metadata": {},
   "outputs": [
    {
     "data": {
      "text/plain": [
       "array([0.9313025 , 0.65791157, 0.82224595, 0.90487544, 0.6233505 ,\n",
       "       0.70245276, 0.50767467, 0.97920704, 0.50331881, 0.63466276,\n",
       "       0.80734477, 0.80732019, 0.94249332, 0.69002114, 0.9455316 ,\n",
       "       0.75186013, 0.99585903, 0.8970122 , 0.81521833, 0.74527672,\n",
       "       0.52759414, 0.89305533, 0.88296392, 0.8130366 , 0.57261115,\n",
       "       0.81691243, 0.60965449, 0.97824002, 0.70606262, 0.8277162 ,\n",
       "       0.61272905, 0.5402625 , 0.51563988, 0.87010487, 0.83008308,\n",
       "       0.69087213, 0.73943572, 0.64003862, 0.57974534, 0.84297819,\n",
       "       0.7183443 , 0.8866204 , 0.63333466, 0.74246382, 0.55045178,\n",
       "       0.63278323, 0.58539391, 0.8150477 , 0.76113545, 0.61452823,\n",
       "       0.76478308, 0.84768977])"
      ]
     },
     "execution_count": 122,
     "metadata": {},
     "output_type": "execute_result"
    }
   ],
   "source": [
    "b = a[a > media]\n",
    "b"
   ]
  },
  {
   "cell_type": "code",
   "execution_count": 134,
   "metadata": {},
   "outputs": [
    {
     "data": {
      "text/plain": [
       "(20, 20)"
      ]
     },
     "execution_count": 134,
     "metadata": {},
     "output_type": "execute_result"
    }
   ],
   "source": [
    "imagen = np.random.randint(0, 256, 400)\n",
    "imagen = imagen.reshape(20,20)\n",
    "imagen.shape"
   ]
  },
  {
   "cell_type": "code",
   "execution_count": 144,
   "metadata": {},
   "outputs": [
    {
     "data": {
      "text/plain": [
       "array([[0.44094488, 0.56692913, 0.72834646, 0.02362205, 0.68110236,\n",
       "        0.77559055, 0.69291339, 0.75590551, 0.82677165, 0.16929134,\n",
       "        0.33070866, 0.29133858, 0.09055118, 0.09448819, 0.12204724,\n",
       "        0.29133858, 0.47637795, 0.30314961, 0.        , 0.63385827],\n",
       "       [0.57874016, 0.90944882, 0.27952756, 0.61811024, 0.95275591,\n",
       "        0.45275591, 0.77559055, 0.99212598, 0.3503937 , 0.91338583,\n",
       "        0.06299213, 0.7992126 , 0.47244094, 0.54330709, 0.75984252,\n",
       "        0.07480315, 0.56299213, 0.6023622 , 0.37795276, 0.62204724],\n",
       "       [0.53149606, 0.15354331, 0.7007874 , 0.48425197, 0.82677165,\n",
       "        0.9015748 , 0.4488189 , 0.04724409, 0.34645669, 0.52755906,\n",
       "        0.50787402, 0.72834646, 0.43307087, 0.74015748, 0.62992126,\n",
       "        0.34645669, 0.62598425, 0.53937008, 0.16929134, 0.94094488],\n",
       "       [0.67716535, 0.27952756, 0.64173228, 0.06299213, 0.26377953,\n",
       "        0.31102362, 0.5984252 , 0.59448819, 0.07086614, 0.74409449,\n",
       "        0.03937008, 0.22440945, 0.57086614, 0.45275591, 0.1023622 ,\n",
       "        0.30708661, 0.26771654, 0.29527559, 0.16929134, 0.69291339],\n",
       "       [0.01968504, 0.4488189 , 0.02362205, 0.5984252 , 0.82283465,\n",
       "        0.85826772, 0.53543307, 0.88188976, 0.77165354, 0.95275591,\n",
       "        1.        , 0.80314961, 0.63779528, 0.7992126 , 0.76771654,\n",
       "        0.58661417, 0.44488189, 0.68897638, 0.88976378, 0.69685039],\n",
       "       [0.73622047, 0.20866142, 0.47637795, 0.66141732, 0.3503937 ,\n",
       "        0.87401575, 0.93700787, 0.44094488, 0.03543307, 0.40551181,\n",
       "        0.13385827, 0.27165354, 0.35433071, 0.8976378 , 0.37401575,\n",
       "        0.63779528, 0.65354331, 0.81496063, 0.65354331, 0.95669291],\n",
       "       [0.44488189, 0.81889764, 0.45275591, 0.22834646, 0.68110236,\n",
       "        0.30314961, 0.28740157, 0.99606299, 0.64566929, 0.77165354,\n",
       "        0.16535433, 0.04330709, 0.06299213, 0.30708661, 0.61023622,\n",
       "        0.96850394, 0.76377953, 0.54330709, 0.72047244, 0.88582677],\n",
       "       [0.0984252 , 0.67322835, 0.17716535, 0.49212598, 0.72834646,\n",
       "        0.43700787, 0.09055118, 0.51968504, 0.21259843, 0.59055118,\n",
       "        0.53937008, 0.02362205, 0.26771654, 0.27559055, 0.8503937 ,\n",
       "        0.2992126 , 0.87795276, 0.81889764, 0.4488189 , 0.20866142],\n",
       "       [0.18503937, 0.30314961, 0.48031496, 0.47637795, 0.01181102,\n",
       "        0.21259843, 0.27559055, 0.37795276, 0.80314961, 0.37795276,\n",
       "        0.31102362, 0.23228346, 0.7519685 , 0.61023622, 0.22834646,\n",
       "        0.77559055, 0.83070866, 0.44488189, 0.56299213, 0.18503937],\n",
       "       [0.36220472, 0.16535433, 0.92913386, 0.59055118, 0.66535433,\n",
       "        0.95275591, 0.20866142, 0.54330709, 0.24409449, 0.32283465,\n",
       "        0.59448819, 0.55905512, 0.42519685, 0.62992126, 0.33070866,\n",
       "        0.94488189, 0.88976378, 0.88582677, 0.20866142, 0.84251969],\n",
       "       [0.03149606, 0.66929134, 0.2007874 , 0.56299213, 0.83070866,\n",
       "        0.22834646, 0.7480315 , 0.17716535, 0.82677165, 0.41338583,\n",
       "        0.41732283, 0.53937008, 0.82283465, 0.06299213, 0.70866142,\n",
       "        0.78740157, 0.61417323, 0.37007874, 0.49606299, 0.1023622 ],\n",
       "       [0.1496063 , 0.04724409, 0.48031496, 0.06299213, 0.75590551,\n",
       "        0.96850394, 0.53543307, 0.49606299, 0.90944882, 0.41338583,\n",
       "        0.7992126 , 0.83858268, 0.95275591, 0.34251969, 0.72834646,\n",
       "        0.66141732, 0.81496063, 0.07086614, 0.91338583, 0.09448819],\n",
       "       [0.15748031, 0.38976378, 0.38976378, 0.32677165, 0.88976378,\n",
       "        0.2992126 , 0.00787402, 0.04330709, 0.70472441, 0.90944882,\n",
       "        0.90551181, 0.72834646, 0.6023622 , 0.71653543, 0.46850394,\n",
       "        0.62598425, 0.33070866, 0.57086614, 0.87795276, 0.61811024],\n",
       "       [0.13385827, 0.07480315, 0.3976378 , 0.88976378, 0.68503937,\n",
       "        0.9488189 , 0.03937008, 0.31496063, 0.23622047, 0.07874016,\n",
       "        0.14173228, 0.59055118, 0.09448819, 0.76377953, 0.29527559,\n",
       "        0.47637795, 0.00393701, 0.44094488, 0.78740157, 0.40551181],\n",
       "       [0.86220472, 0.0984252 , 0.11811024, 0.11811024, 0.62204724,\n",
       "        0.68503937, 0.44094488, 0.03543307, 0.68503937, 0.98818898,\n",
       "        0.93307087, 0.68503937, 0.12598425, 0.2992126 , 0.44094488,\n",
       "        0.44488189, 0.84251969, 0.64566929, 0.96456693, 0.46456693],\n",
       "       [0.9488189 , 0.52362205, 0.46062992, 0.72047244, 0.71653543,\n",
       "        0.3976378 , 0.8976378 , 0.78740157, 0.28346457, 0.42519685,\n",
       "        0.14566929, 0.01968504, 0.55905512, 0.11811024, 0.96456693,\n",
       "        0.7992126 , 0.88188976, 0.28346457, 0.81102362, 0.23228346],\n",
       "       [0.88582677, 0.11417323, 0.24015748, 0.40944882, 0.42913386,\n",
       "        0.37795276, 0.42913386, 0.36614173, 0.57480315, 0.5511811 ,\n",
       "        0.80708661, 0.81102362, 0.3503937 , 0.01574803, 0.48818898,\n",
       "        0.1496063 , 0.27559055, 0.25590551, 0.85433071, 0.16141732],\n",
       "       [0.57480315, 0.20866142, 0.06299213, 0.11811024, 0.62598425,\n",
       "        0.88976378, 0.66929134, 0.70472441, 0.33858268, 0.72440945,\n",
       "        0.36220472, 0.80314961, 0.94094488, 0.06692913, 0.95669291,\n",
       "        0.08267717, 0.32677165, 0.7992126 , 0.06299213, 0.4015748 ],\n",
       "       [0.01574803, 0.11023622, 0.48818898, 0.07480315, 0.85433071,\n",
       "        0.37401575, 0.7519685 , 0.68897638, 0.79527559, 0.31496063,\n",
       "        0.61023622, 0.61417323, 0.78346457, 0.52362205, 0.78346457,\n",
       "        0.61417323, 0.75590551, 0.35826772, 0.02362205, 0.14173228],\n",
       "       [0.50787402, 0.3976378 , 0.81496063, 0.05511811, 0.64173228,\n",
       "        0.53543307, 0.36220472, 0.26771654, 0.05905512, 0.43307087,\n",
       "        0.45669291, 0.12204724, 0.78346457, 0.04330709, 0.72834646,\n",
       "        0.24015748, 0.12992126, 0.88976378, 0.37795276, 0.81889764]])"
      ]
     },
     "execution_count": 144,
     "metadata": {},
     "output_type": "execute_result"
    }
   ],
   "source": [
    "imagen_norm = (imagen - np.min(imagen)) / ((np.max(imagen) - np.min(imagen)) + 1e-10)\n",
    "imagen_norm"
   ]
  },
  {
   "cell_type": "code",
   "execution_count": 140,
   "metadata": {},
   "outputs": [
    {
     "name": "stdout",
     "output_type": "stream",
     "text": [
      "minimo: 0.0\n",
      "maximo: 0.9999999999996063\n"
     ]
    }
   ],
   "source": [
    "print('minimo:', np.min(imagen_norm))\n",
    "print('maximo:', np.max(imagen_norm))"
   ]
  },
  {
   "cell_type": "markdown",
   "metadata": {},
   "source": [
    "## Bibliografía\n",
    "\n",
    "https://docs.python.org/3/\n",
    "\n",
    "https://www.medium.com\n",
    "\n",
    "https://www.bejob.com\n",
    "\n",
    "https://www.paradigmadigital.com"
   ]
  }
 ],
 "metadata": {
  "kernelspec": {
   "display_name": "Python 3",
   "language": "python",
   "name": "python3"
  },
  "language_info": {
   "codemirror_mode": {
    "name": "ipython",
    "version": 3
   },
   "file_extension": ".py",
   "mimetype": "text/x-python",
   "name": "python",
   "nbconvert_exporter": "python",
   "pygments_lexer": "ipython3",
   "version": "3.6.5"
  }
 },
 "nbformat": 4,
 "nbformat_minor": 2
}
